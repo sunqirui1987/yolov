{
 "cells": [
  {
   "cell_type": "markdown",
   "source": [
    "## Install dependencies"
   ],
   "metadata": {}
  },
  {
   "cell_type": "code",
   "execution_count": null,
   "source": [
    "!pip install -r requirements.txt\n",
    "!apt-get update && apt-get install libgtk2.0-dev -y"
   ],
   "outputs": [],
   "metadata": {}
  },
  {
   "cell_type": "code",
   "execution_count": null,
   "source": [
    "import sys\n",
    "import fileinput\n",
    "\n",
    "# with is like your try .. finally block in this case\n",
    "with open('/root/.config/Ultralytics/settings.yaml', 'r') as file:\n",
    "    # read a list of lines into data\n",
    "    data = file.readlines()\n",
    "\n",
    "# now change the 2nd line, note that you have to add a newline\n",
    "data[0] = 'datasets_dir: /notebooks/datasets/ \\n'\n",
    "\n",
    "# and write everything back\n",
    "with open('/root/.config/Ultralytics/settings.yaml', 'w') as file:\n",
    "    file.writelines( data )"
   ],
   "outputs": [],
   "metadata": {}
  },
  {
   "cell_type": "markdown",
   "source": [
    "# Run the application"
   ],
   "metadata": {}
  },
  {
   "cell_type": "code",
   "execution_count": null,
   "source": [
    "!python app-final.py"
   ],
   "outputs": [],
   "metadata": {}
  }
 ],
 "metadata": {
  "orig_nbformat": 4,
  "language_info": {
   "name": "python"
  }
 },
 "nbformat": 4,
 "nbformat_minor": 2
}